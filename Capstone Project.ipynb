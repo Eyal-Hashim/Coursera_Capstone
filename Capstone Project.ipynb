{
    "cells": [
        {
            "cell_type": "markdown",
            "metadata": {},
            "source": "# Introduction"
        },
        {
            "cell_type": "markdown",
            "metadata": {},
            "source": "This final project is designated to help people moving into Paris, France discover which Borough is more Eco-friendly, so they can weigh that consideration in their decision where to rent an apartment.\nThe main goal is to Determine which neighborhood has \"Green\" criteria, based on Foresquare data and air quality data within each borough."
        },
        {
            "cell_type": "markdown",
            "metadata": {},
            "source": "# Data"
        },
        {
            "cell_type": "markdown",
            "metadata": {},
            "source": "In order to answer the question above, data on the twenty arrondissements of Paris include latitude, longitude, Gardens, Parks, Vegetarian/Vegan restaurants, Organic groceries and Air Quality index in each borough are necessary. \n\n1. Paris data containing the boroughs, latitudes, and longitudes will be obtained from the data source: https://opendata.paris.fr/explore/dataset/arrondissements/table/?location=12,48.85889,2.34692&basemap=jawg.streets\n\n2. Paris data containing historical air quality index for 2019 will be taken from the Breezometer API : https://breezometer.com/historical-air-quality-data using the Request library in Python.\n\n3. All data related to locations of Public open spaces and Eco-friendly businesses will be obtained via the FourSquare API by the Request library in Python."
        }
    ],
    "metadata": {
        "kernelspec": {
            "display_name": "Python 3.6",
            "language": "python",
            "name": "python3"
        },
        "language_info": {
            "codemirror_mode": {
                "name": "ipython",
                "version": 3
            },
            "file_extension": ".py",
            "mimetype": "text/x-python",
            "name": "python",
            "nbconvert_exporter": "python",
            "pygments_lexer": "ipython3",
            "version": "3.6.9"
        }
    },
    "nbformat": 4,
    "nbformat_minor": 1
}